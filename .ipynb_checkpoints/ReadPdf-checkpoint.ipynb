{
 "cells": [
  {
   "cell_type": "code",
   "execution_count": 1,
   "id": "0dd9cf34",
   "metadata": {},
   "outputs": [
    {
     "name": "stdout",
     "output_type": "stream",
     "text": [
      "1\n",
      "03/01/2024\n",
      " \n",
      "Transaction Details\n",
      "Nick Name :\n",
      "Payee Account Number :\n",
      "Bank :Payee Name :\n",
      "Pachi Singapore\n",
      "3953181930\n",
      "UNITED OVERSEAS BANK (MALAYSIA)\n",
      "BERHADGajengi Prashanth\n",
      "Reference No: PRASHANTH1812C@GMAIL.COMRemitter EmailID :From Account : XXXXXXXXXXX4068\n",
      "Total Amount  :Rs.64261.42Bank 's Swift Code : UOVBSGSG\n",
      "Routing No:\n",
      "Payment Details\n",
      "Remittance currency : SGD-SINGAPORE DOLLAR\n",
      "Remittance Amount : 1000\n",
      "PAN No :\n",
      "BSFPG3014G Purpose :\n",
      "Self-Transfer Source of Fund :\n",
      "Salary\n",
      "Exchange Rate & Charges\n",
      "INR Equivalent Amount: Rs.62732.5\n",
      "Exchange Rate :Rs.62.7325\n",
      "Correspondent Bank Charges : Rs.1416\n",
      "Foreign currency conversion Tax Rs.112.92\n",
      "Other Taxes :Rs.0\n",
      "Rs.0Payee Details\n",
      "This is a computer generated statement and is not required to be signed by any official of the bank\n"
     ]
    }
   ],
   "source": [
    "# importing required modules \n",
    "from PyPDF2 import PdfReader \n",
    "\n",
    "# creating a pdf reader object \n",
    "reader = PdfReader('/Users/prashanth/Downloads/FTSuccessReceipt-2.pdf') \n",
    "\n",
    "# printing number of pages in pdf file \n",
    "print(len(reader.pages)) \n",
    "\n",
    "# getting a specific page from the pdf file \n",
    "page = reader.pages[0] \n",
    "\n",
    "# extracting text from page \n",
    "text = page.extract_text() \n",
    "print(text) \n"
   ]
  },
  {
   "cell_type": "code",
   "execution_count": null,
   "id": "4d09ff8e",
   "metadata": {},
   "outputs": [],
   "source": []
  }
 ],
 "metadata": {
  "kernelspec": {
   "display_name": "Python 3 (ipykernel)",
   "language": "python",
   "name": "python3"
  },
  "language_info": {
   "codemirror_mode": {
    "name": "ipython",
    "version": 3
   },
   "file_extension": ".py",
   "mimetype": "text/x-python",
   "name": "python",
   "nbconvert_exporter": "python",
   "pygments_lexer": "ipython3",
   "version": "3.9.12"
  }
 },
 "nbformat": 4,
 "nbformat_minor": 5
}
