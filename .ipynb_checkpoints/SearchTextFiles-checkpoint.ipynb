{
 "cells": [
  {
   "cell_type": "code",
   "execution_count": 56,
   "id": "081aa562",
   "metadata": {},
   "outputs": [
    {
     "name": "stdout",
     "output_type": "stream",
     "text": [
      "Top 20 interview questions.txt False\n",
      "Top 10 interview questions for finance domain comp.txt False\n",
      "Careers Request.txt False\n",
      "Competencies Displayed.txt False\n",
      "Top 20 interview questions Practice.txt False\n",
      "test.txt False\n",
      "Companies.rtf False\n",
      "AI_InterviewPrep_2024 True\n",
      "Angular BrushUp.rtf False\n",
      "LinkedIn Cources True\n",
      "Maven True\n",
      "Introducing Maven.rtf False\n",
      "Introducing Maven.txt False\n",
      "Java False\n",
      "Front_End False\n",
      "DSA Programs Practice.rtf False\n",
      "Why Play.rtf False\n",
      "Code Snippet Tips Cheat Code.rtf False\n",
      "DSA Brushup.rtf False\n",
      "Interview Questions Encountered False\n",
      "Programming Questions Cheat Code.rtf False\n",
      "Java Questions Expected.rtf False\n",
      "Java Brush up.rtf False\n",
      "InterviewCodingProgramsExpected.rtf False\n",
      "BrushUp.rtf False\n",
      "Companies False\n",
      "Java- Lambdas and Streams.rtf False\n"
     ]
    }
   ],
   "source": [
    "import os\n",
    "\n",
    "current_path = os.getcwd()\n",
    "current_path\n",
    "\n",
    "#path = '/Users/prashanth/Documents/Python/TestFiles'\n",
    "path = '/Users/prashanth/Library/Mobile Documents/com~apple~CloudDocs/My Documents/Singapore Job Search 2023/InterviewPrep'\n",
    "path\n",
    "\n",
    "#text = input(\"Please enter text: \")\n",
    "text = \"Building APIs with Swagger\"\n",
    "def searchText(path):\n",
    "    \n",
    "    os.chdir(path)\n",
    "    files = os.listdir()\n",
    "    files = [ fi for fi in files if not fi.endswith(\".DS_Store\") ]\n",
    "    files = [ fi for fi in files if not fi.endswith(\".pages\") ]\n",
    "    \n",
    "    #print(files)\n",
    "    \n",
    "    for file_name in files:\n",
    "        abs_path = os.path.abspath(file_name)\n",
    "        print(file_name + \" \" + str(os.path.isdir(os.path.expanduser(abs_path))))\n",
    "        \n",
    "        if os.path.isdir(abs_path):\n",
    "            searchText(abs_path)\n",
    "            \n",
    "        if os.path.isfile(abs_path):\n",
    "             with open(file_name, 'r', encoding='utf-8') as f:\n",
    "                if text in f.read():\n",
    "                    final_path = os.path.abspath(file_name)\n",
    "                    print(text + \" word found in this path \\n\" + final_path + \"\\n\")\n",
    "                #else:\n",
    "                    #print(\"No match found in \" + abs_path)\n",
    "pass\n",
    "searchText(path)"
   ]
  },
  {
   "cell_type": "code",
   "execution_count": null,
   "id": "2e3796e3",
   "metadata": {},
   "outputs": [],
   "source": []
  }
 ],
 "metadata": {
  "kernelspec": {
   "display_name": "Python 3 (ipykernel)",
   "language": "python",
   "name": "python3"
  },
  "language_info": {
   "codemirror_mode": {
    "name": "ipython",
    "version": 3
   },
   "file_extension": ".py",
   "mimetype": "text/x-python",
   "name": "python",
   "nbconvert_exporter": "python",
   "pygments_lexer": "ipython3",
   "version": "3.9.12"
  }
 },
 "nbformat": 4,
 "nbformat_minor": 5
}
